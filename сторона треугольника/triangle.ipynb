{
  "nbformat": 4,
  "nbformat_minor": 0,
  "metadata": {
    "colab": {
      "provenance": []
    },
    "kernelspec": {
      "name": "python3",
      "display_name": "Python 3"
    },
    "language_info": {
      "name": "python"
    }
  },
  "cells": [
    {
      "cell_type": "code",
      "execution_count": 1,
      "metadata": {
        "id": "2sXM1Kt6M6yJ"
      },
      "outputs": [],
      "source": [
        "from math import sqrt, cos, pi"
      ]
    },
    {
      "cell_type": "code",
      "source": [
        "print(\"Введите длину первой стороны: \")\n",
        "a = input()\n",
        "print(\"Введите длину второй стороны: \")\n",
        "b = input()\n",
        "print(\"Введите градусную меру угла: \")\n",
        "x = input()\n",
        "a = float (a)\n",
        "b = float (b)\n",
        "x = float (x)\n",
        "x = x*pi/180\n",
        "c = sqrt((a**2+b**2)-2*a*b*cos(x))\n",
        "print (\"Длина третьей стороны равна \",c)"
      ],
      "metadata": {
        "id": "_cGzLBUYrg1s",
        "colab": {
          "base_uri": "https://localhost:8080/"
        },
        "outputId": "301ae2fb-c0c4-410b-eab6-dac8e6e17bfe"
      },
      "execution_count": 8,
      "outputs": [
        {
          "output_type": "stream",
          "name": "stdout",
          "text": [
            "Введите длину первой стороны: \n",
            "5\n",
            "Введите длину второй стороны: \n",
            "7\n",
            "Введите градусную меру угла: \n",
            "60\n",
            "Длина третьей стороны равна  6.244997998398397\n"
          ]
        }
      ]
    }
  ]
}