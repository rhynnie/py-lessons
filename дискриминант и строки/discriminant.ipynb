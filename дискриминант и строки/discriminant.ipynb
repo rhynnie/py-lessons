{
  "nbformat": 4,
  "nbformat_minor": 0,
  "metadata": {
    "colab": {
      "provenance": []
    },
    "kernelspec": {
      "name": "python3",
      "display_name": "Python 3"
    },
    "language_info": {
      "name": "python"
    }
  },
  "cells": [
    {
      "cell_type": "code",
      "execution_count": null,
      "metadata": {
        "id": "Ycsi4P8fjkSE"
      },
      "outputs": [],
      "source": [
        "from math import sqrt"
      ]
    },
    {
      "cell_type": "code",
      "source": [
        "a = float(input(\"Введите первое число: \")) #ввод первого числа квадратного уравнения\n",
        "b = float(input(\"Введите второе число: \")) #ввод второго числа квадратного уравнения\n",
        "c = float(input(\"Введите третье число: \")) #ввод третьего числа квадратного уравнения"
      ],
      "metadata": {
        "colab": {
          "base_uri": "https://localhost:8080/"
        },
        "id": "wVCze4bTj2-g",
        "outputId": "4077ac47-ff81-465c-9fb4-c342f8872c68"
      },
      "execution_count": null,
      "outputs": [
        {
          "name": "stdout",
          "output_type": "stream",
          "text": [
            "Введите первое число: 1\n",
            "Введите второе число: -4\n",
            "Введите третье число: -5\n"
          ]
        }
      ]
    },
    {
      "cell_type": "code",
      "source": [
        "d = b**2-4*a*c #считаем дискриминант\n",
        "if d<0:print(\"Корней нет\") #при значении дискриминанта меньше 0 корней нет\n",
        "elif d==0:print(\"Один корень, \", (-b)/(2*a)) #при значении дискриминанта = 0 в уравнении один корень\n",
        "else: print(\"Два корня: \", ((-b)+sqrt(d))/(2*a),\", \", ((-b)-sqrt(d))/(2*a)) #при значении дискриминанта больше 0 в уравнении два корня"
      ],
      "metadata": {
        "colab": {
          "base_uri": "https://localhost:8080/"
        },
        "id": "NM8PeX-pkOvT",
        "outputId": "96df9374-72fb-4e9f-852b-d98ab2fb991d"
      },
      "execution_count": null,
      "outputs": [
        {
          "output_type": "stream",
          "name": "stdout",
          "text": [
            "Два корня:  5.0 ,  -1.0\n"
          ]
        }
      ]
    }
  ]
}