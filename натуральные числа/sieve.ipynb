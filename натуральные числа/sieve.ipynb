{
  "nbformat": 4,
  "nbformat_minor": 0,
  "metadata": {
    "colab": {
      "provenance": []
    },
    "kernelspec": {
      "name": "python3",
      "display_name": "Python 3"
    },
    "language_info": {
      "name": "python"
    }
  },
  "cells": [
    {
      "cell_type": "code",
      "source": [
        "n = input(\"Введите конечное значение: \") #ввод предела работы\n",
        "try:\n",
        "  int(n)\n",
        "except:\n",
        "  print (\"Введите целое число\")\n",
        "n = int(n)"
      ],
      "metadata": {
        "colab": {
          "base_uri": "https://localhost:8080/"
        },
        "id": "M1PVizElYuEj",
        "outputId": "cd8a845c-faf9-4d2e-ba40-1edd2393dcd0"
      },
      "execution_count": 47,
      "outputs": [
        {
          "name": "stdout",
          "output_type": "stream",
          "text": [
            "Введите конечное значение: 32\n"
          ]
        }
      ]
    },
    {
      "cell_type": "code",
      "source": [
        "p = 2\n",
        "for i in range(p, n+1):\n",
        "    prostoe = True\n",
        "    for x in range(p, i):\n",
        "        if i % x == 0:\n",
        "            prostoe = False\n",
        "            break\n",
        "\n",
        "    if prostoe:\n",
        "        print(i)"
      ],
      "metadata": {
        "colab": {
          "base_uri": "https://localhost:8080/"
        },
        "id": "DsYc-xmWahFS",
        "outputId": "10ebaf50-69f1-4c30-d2a0-16df3ae407de"
      },
      "execution_count": 48,
      "outputs": [
        {
          "output_type": "stream",
          "name": "stdout",
          "text": [
            "2\n",
            "3\n",
            "5\n",
            "7\n",
            "11\n",
            "13\n",
            "17\n",
            "19\n",
            "23\n",
            "29\n",
            "31\n"
          ]
        }
      ]
    }
  ]
}