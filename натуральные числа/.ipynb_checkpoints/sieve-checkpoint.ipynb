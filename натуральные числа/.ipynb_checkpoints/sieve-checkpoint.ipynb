{
 "cells": [
  {
   "cell_type": "code",
   "execution_count": 47,
   "metadata": {
    "colab": {
     "base_uri": "https://localhost:8080/"
    },
    "id": "M1PVizElYuEj",
    "outputId": "cd8a845c-faf9-4d2e-ba40-1edd2393dcd0"
   },
   "outputs": [
    {
     "name": "stdout",
     "output_type": "stream",
     "text": [
      "Введите конечное значение: 32\n"
     ]
    }
   ],
   "source": [
    "n = input(\"Введите конечное значение: \") #ввод предела работы\n",
    "try:\n",
    "  int(n) #проверяем, что число целое и не строка\n",
    "except:\n",
    "  print (\"Введите целое число\") #если число дробное или строка, то не работает\n",
    "n = int(n) #делает число integer"
   ]
  },
  {
   "cell_type": "code",
   "execution_count": 48,
   "metadata": {
    "colab": {
     "base_uri": "https://localhost:8080/"
    },
    "id": "DsYc-xmWahFS",
    "outputId": "10ebaf50-69f1-4c30-d2a0-16df3ae407de"
   },
   "outputs": [
    {
     "name": "stdout",
     "output_type": "stream",
     "text": [
      "2\n",
      "3\n",
      "5\n",
      "7\n",
      "11\n",
      "13\n",
      "17\n",
      "19\n",
      "23\n",
      "29\n",
      "31\n"
     ]
    }
   ],
   "source": [
    "p = 2 #начинаем от двух\n",
    "for i in range(p, n+1): #работаем в пределе от 2 до введённого числа\n",
    "    prostoe = True #предполагаем что число простое\n",
    "    for x in range(p, i): #работаем в пределе от 2 до предполагаемого простого числа\n",
    "        if i % x == 0: #если остаток от деления числа равен 0\n",
    "            prostoe = False #то не простое\n",
    "            break #прекращение цикла\n",
    "\n",
    "    if prostoe: #если простое\n",
    "        print(i) #печатает"
   ]
  }
 ],
 "metadata": {
  "colab": {
   "provenance": []
  },
  "kernelspec": {
   "display_name": "Python 3 (ipykernel)",
   "language": "python",
   "name": "python3"
  },
  "language_info": {
   "codemirror_mode": {
    "name": "ipython",
    "version": 3
   },
   "file_extension": ".py",
   "mimetype": "text/x-python",
   "name": "python",
   "nbconvert_exporter": "python",
   "pygments_lexer": "ipython3",
   "version": "3.11.7"
  }
 },
 "nbformat": 4,
 "nbformat_minor": 4
}
